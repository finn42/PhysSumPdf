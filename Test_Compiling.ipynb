{
 "cells": [
  {
   "cell_type": "markdown",
   "metadata": {},
   "source": [
    "# Compose template summary docs\n",
    "Test out construction\n",
    "\n",
    "derived from http://localhost:8889/notebooks/SMPC/Documents/Presentations_sharable/SMPC2019_Schedules_Daily.ipynb"
   ]
  },
  {
   "cell_type": "code",
   "execution_count": 72,
   "metadata": {},
   "outputs": [],
   "source": [
    "import collections\n",
    "import os\n",
    "from os import listdir, chdir,makedirs\n",
    "import shutil\n",
    "import io  \n",
    "import sys  \n",
    "import urllib\n",
    "import csv\n",
    "from pylatexenc.latexencode import utf8tolatex\n",
    "from pylatexenc.latex2text import LatexNodes2Text\n",
    "\n",
    "import time\n",
    "#from time import strptime\n",
    "import datetime as dt\n",
    "# from datetime import datetime\n",
    "# from datetime import date\n",
    "\n",
    "#from dumptruck import DumpTruck Not going to used dumptruck, just pandas\n",
    "from collections import OrderedDict\n",
    "from collections import Counter\n",
    "from collections import deque\n",
    "from os import listdir, chdir,makedirs\n",
    "\n",
    "\n",
    "import math\n",
    "import numpy as np \n",
    "import scipy as sp\n",
    "import pandas as pd\n",
    "\n",
    "# shouldn't need ploting, plots generated elsewhere\n",
    "# import matplotlib.pyplot as plt\n",
    "# import seaborn as sns\n",
    "\n",
    "# from scipy.signal import butter, filtfilt, argrelextrema\n",
    "# from scipy import interpolate\n",
    "# from scipy.interpolate import interp1d"
   ]
  },
  {
   "cell_type": "code",
   "execution_count": 37,
   "metadata": {},
   "outputs": [
    {
     "data": {
      "text/plain": [
       "'/Users/finn/Desktop/Current_Projects/Stavanger/Summaries/Outfiles'"
      ]
     },
     "execution_count": 37,
     "metadata": {},
     "output_type": "execute_result"
    }
   ],
   "source": [
    "pwd"
   ]
  },
  {
   "cell_type": "code",
   "execution_count": 36,
   "metadata": {},
   "outputs": [],
   "source": [
    "baseDir = '/Users/finn/Desktop/Current_Projects/Stavanger/Summaries/'"
   ]
  },
  {
   "cell_type": "code",
   "execution_count": 22,
   "metadata": {},
   "outputs": [
    {
     "data": {
      "text/plain": [
       "'./Outfiles/som.tex'"
      ]
     },
     "execution_count": 22,
     "metadata": {},
     "output_type": "execute_result"
    }
   ],
   "source": [
    "out_loc + 'som.tex'"
   ]
  },
  {
   "cell_type": "code",
   "execution_count": 40,
   "metadata": {},
   "outputs": [],
   "source": [
    "data_loc = '/Users/finn/Desktop/Current_Projects/Stavanger/Data/'\n",
    "plot_loc = baseDir + 'Plots/'\n",
    "out_loc = baseDir + 'Outfiles/'"
   ]
  },
  {
   "cell_type": "code",
   "execution_count": 41,
   "metadata": {},
   "outputs": [
    {
     "data": {
      "text/html": [
       "<div>\n",
       "<style scoped>\n",
       "    .dataframe tbody tr th:only-of-type {\n",
       "        vertical-align: middle;\n",
       "    }\n",
       "\n",
       "    .dataframe tbody tr th {\n",
       "        vertical-align: top;\n",
       "    }\n",
       "\n",
       "    .dataframe thead th {\n",
       "        text-align: right;\n",
       "    }\n",
       "</style>\n",
       "<table border=\"1\" class=\"dataframe\">\n",
       "  <thead>\n",
       "    <tr style=\"text-align: right;\">\n",
       "      <th></th>\n",
       "      <th>PartID</th>\n",
       "      <th>Section</th>\n",
       "      <th>Instrument</th>\n",
       "      <th>Stage_X</th>\n",
       "      <th>Stage_Y</th>\n",
       "      <th>Con1</th>\n",
       "      <th>Con2</th>\n",
       "      <th>Con3</th>\n",
       "      <th>Con4</th>\n",
       "      <th>Con5</th>\n",
       "      <th>...</th>\n",
       "      <th>M_RG</th>\n",
       "      <th>M_RE</th>\n",
       "      <th>M_RD</th>\n",
       "      <th>M_C1</th>\n",
       "      <th>M_C2</th>\n",
       "      <th>M_C3</th>\n",
       "      <th>M_C4</th>\n",
       "      <th>M_C5</th>\n",
       "      <th>Summary</th>\n",
       "      <th>Note</th>\n",
       "    </tr>\n",
       "  </thead>\n",
       "  <tbody>\n",
       "    <tr>\n",
       "      <th>0</th>\n",
       "      <td>BR601</td>\n",
       "      <td>BR6</td>\n",
       "      <td>Tuba</td>\n",
       "      <td>1192</td>\n",
       "      <td>340</td>\n",
       "      <td>1.0</td>\n",
       "      <td>1.0</td>\n",
       "      <td>1.0</td>\n",
       "      <td>1.0</td>\n",
       "      <td>1.0</td>\n",
       "      <td>...</td>\n",
       "      <td>NaN</td>\n",
       "      <td>NaN</td>\n",
       "      <td>NaN</td>\n",
       "      <td>NaN</td>\n",
       "      <td>NaN</td>\n",
       "      <td>NaN</td>\n",
       "      <td>NaN</td>\n",
       "      <td>NaN</td>\n",
       "      <td>Yes</td>\n",
       "      <td>NaN</td>\n",
       "    </tr>\n",
       "    <tr>\n",
       "      <th>1</th>\n",
       "      <td>BR602</td>\n",
       "      <td>BR6</td>\n",
       "      <td>Trumpet</td>\n",
       "      <td>934</td>\n",
       "      <td>224</td>\n",
       "      <td>1.0</td>\n",
       "      <td>1.0</td>\n",
       "      <td>1.0</td>\n",
       "      <td>1.0</td>\n",
       "      <td>1.0</td>\n",
       "      <td>...</td>\n",
       "      <td>NaN</td>\n",
       "      <td>NaN</td>\n",
       "      <td>NaN</td>\n",
       "      <td>NaN</td>\n",
       "      <td>NaN</td>\n",
       "      <td>NaN</td>\n",
       "      <td>NaN</td>\n",
       "      <td>NaN</td>\n",
       "      <td>Yes</td>\n",
       "      <td>NaN</td>\n",
       "    </tr>\n",
       "  </tbody>\n",
       "</table>\n",
       "<p>2 rows × 29 columns</p>\n",
       "</div>"
      ],
      "text/plain": [
       "  PartID Section Instrument  Stage_X  Stage_Y  Con1  Con2  Con3  Con4  Con5  \\\n",
       "0  BR601     BR6       Tuba     1192      340   1.0   1.0   1.0   1.0   1.0   \n",
       "1  BR602     BR6    Trumpet      934      224   1.0   1.0   1.0   1.0   1.0   \n",
       "\n",
       "   ...  M_RG  M_RE  M_RD  M_C1  M_C2  M_C3  M_C4  M_C5  Summary  Note  \n",
       "0  ...   NaN   NaN   NaN   NaN   NaN   NaN   NaN   NaN      Yes   NaN  \n",
       "1  ...   NaN   NaN   NaN   NaN   NaN   NaN   NaN   NaN      Yes   NaN  \n",
       "\n",
       "[2 rows x 29 columns]"
      ]
     },
     "execution_count": 41,
     "metadata": {},
     "output_type": "execute_result"
    }
   ],
   "source": [
    "PartDets = pd.read_csv(data_loc + 'Participant_Metadata_stage.csv')\n",
    "PartDets.iloc[:2,:]"
   ]
  },
  {
   "cell_type": "code",
   "execution_count": 42,
   "metadata": {},
   "outputs": [],
   "source": [
    "chdir(out_loc)\n",
    "# need to compile from inside the output folder!"
   ]
  },
  {
   "cell_type": "code",
   "execution_count": 61,
   "metadata": {},
   "outputs": [],
   "source": [
    "def fig_insert(fig_loc,fig_caption,fig_label):\n",
    "    S = \"\\\\begin{figure}[h!]\\n\\\\includegraphics[width=\\linewidth]{%s}\\n\\\\caption{%s}\\n\\\\label{%s}\\n\\\\end{figure}\" % (fig_loc,fig_caption,fig_label,)\n",
    "    return S"
   ]
  },
  {
   "cell_type": "code",
   "execution_count": 68,
   "metadata": {},
   "outputs": [],
   "source": [
    "introtext = 'This document shares some outputs from data collected with the equivitals.'"
   ]
  },
  {
   "cell_type": "code",
   "execution_count": 71,
   "metadata": {},
   "outputs": [],
   "source": [
    "for i in range(2):\n",
    "    \n",
    "    part = PartDets.loc[i,'PartID']\n",
    "    figloc = plot_loc + 'Waves/Resp_'+part+'_Tcha_waves.jpg'\n",
    "    texName = \"Indiv.tex\"\n",
    "    f= open(texName, 'w+')\n",
    "    \n",
    "    f.write('\\\\section{'+ PartDets.loc[i,'Instrument']+'}\\n ')\n",
    "    f.write('\\n' + introtext + '\\n')\n",
    "    f.write(fig_insert(figloc,'Respiration during each performance of one piece.','6Resp'))\n",
    "    \n",
    "    f.write('\\n\\\\end{document}\\n')\n",
    "    f.close() \n",
    "    \n",
    "    os.system('pdflatex som.tex')\n",
    "    os.rename(out_loc + 'som.pdf',out_loc+'Indiv_files/' +part + \"_sum.pdf\")\n"
   ]
  },
  {
   "cell_type": "code",
   "execution_count": null,
   "metadata": {},
   "outputs": [],
   "source": []
  }
 ],
 "metadata": {
  "kernelspec": {
   "display_name": "Python 3",
   "language": "python",
   "name": "python3"
  },
  "language_info": {
   "codemirror_mode": {
    "name": "ipython",
    "version": 3
   },
   "file_extension": ".py",
   "mimetype": "text/x-python",
   "name": "python",
   "nbconvert_exporter": "python",
   "pygments_lexer": "ipython3",
   "version": "3.9.0"
  }
 },
 "nbformat": 4,
 "nbformat_minor": 4
}
