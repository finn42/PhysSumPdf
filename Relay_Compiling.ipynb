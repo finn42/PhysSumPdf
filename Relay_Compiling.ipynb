{
 "cells": [
  {
   "cell_type": "markdown",
   "metadata": {},
   "source": [
    "# Compose summary docs \n",
    "\n",
    "Test out construction\n",
    "\n",
    "derived from http://localhost:8889/notebooks/SMPC/Documents/Presentations_sharable/SMPC2019_Schedules_Daily.ipynb"
   ]
  },
  {
   "cell_type": "code",
   "execution_count": 1,
   "metadata": {},
   "outputs": [],
   "source": [
    "import collections\n",
    "import os\n",
    "from os import listdir, chdir,makedirs\n",
    "import shutil\n",
    "import io  \n",
    "import sys  \n",
    "import urllib\n",
    "import csv\n",
    "from pylatexenc.latexencode import utf8tolatex\n",
    "from pylatexenc.latex2text import LatexNodes2Text\n",
    "\n",
    "import time\n",
    "import datetime as dt\n",
    "\n",
    "from collections import OrderedDict\n",
    "from collections import Counter\n",
    "from collections import deque\n",
    "from os import listdir, chdir,makedirs\n",
    "\n",
    "\n",
    "import math\n",
    "import numpy as np \n",
    "import scipy as sp\n",
    "import pandas as pd\n"
   ]
  },
  {
   "cell_type": "code",
   "execution_count": 2,
   "metadata": {},
   "outputs": [],
   "source": [
    "data_loc = '/Users/finn/Desktop/Current_Projects/Stavanger/Data/'\n",
    "baseDir = '/Users/finn/Desktop/Current_Projects/Stavanger/Summaries/'\n",
    "plot_loc = baseDir + 'Plots/Relay/'\n",
    "out_loc = baseDir + 'Outfiles_relay/'"
   ]
  },
  {
   "cell_type": "code",
   "execution_count": 3,
   "metadata": {},
   "outputs": [],
   "source": [
    "race_dets = pd.read_csv(baseDir + '/Data/Relay_dets.csv')\n",
    "race_dets['Start time'] = pd.to_datetime('2023-05-13 ' + race_dets['Start time'] + ' +0200')\n",
    "race_dets['End time'] = pd.to_datetime('2023-05-13 ' + race_dets['End time'] + ' +0200')\n",
    "race_dets['Duration'] = (race_dets['End time'] - race_dets['Start time']).dt.total_seconds()\n",
    "\n",
    "PartDets = race_dets.loc[~race_dets['PartID'].isna(),:].reset_index(drop = True).copy()"
   ]
  },
  {
   "cell_type": "code",
   "execution_count": 4,
   "metadata": {},
   "outputs": [
    {
     "data": {
      "text/plain": [
       "Index(['Leg', 'Point', 'Participant', 'Distance  (m)', 'Start time',\n",
       "       'racetime', 'End time', 'PartID', 'SEM', 'GivenName', 'pronoun', 'pp',\n",
       "       'CF1', 'CF2', 'CF3', 'CF4', 'Unnamed: 16', 'Unnamed: 17', 'Unnamed: 18',\n",
       "       'Unnamed: 19', 'Unnamed: 20', 'Unnamed: 21', 'Unnamed: 22',\n",
       "       'Unnamed: 23', 'Duration'],\n",
       "      dtype='object')"
      ]
     },
     "execution_count": 4,
     "metadata": {},
     "output_type": "execute_result"
    }
   ],
   "source": [
    "PartDets.columns"
   ]
  },
  {
   "cell_type": "code",
   "execution_count": 5,
   "metadata": {},
   "outputs": [],
   "source": [
    "chdir(out_loc)"
   ]
  },
  {
   "cell_type": "code",
   "execution_count": 6,
   "metadata": {},
   "outputs": [
    {
     "data": {
      "text/plain": [
       "'/Users/finn/Desktop/Current_Projects/Stavanger/Summaries/Outfiles_relay'"
      ]
     },
     "execution_count": 6,
     "metadata": {},
     "output_type": "execute_result"
    }
   ],
   "source": [
    "pwd"
   ]
  },
  {
   "cell_type": "code",
   "execution_count": 7,
   "metadata": {},
   "outputs": [],
   "source": [
    "def fig_insert(fig_loc,fig_caption,fig_label):\n",
    "    S = \"\\\\begin{figure}[h]\\n\\\\includegraphics[width=\\linewidth]{%s}\\n\\\\caption{%s}\\n\\\\label{%s}\\n\\\\end{figure}\\n\" % (fig_loc,fig_caption,fig_label,)\n",
    "    return S\n",
    "\n",
    "def fig_rotate(fig_loc,fig_caption,fig_label):\n",
    "    S = \"\\\\begin{sidewaysfigure}[h]\\n\\\\includegraphics[width=\\linewidth]{%s}\\n\\\\caption{%s}\\n\\\\label{%s}\\n\\\\end{sidewaysfigure}\\n\" % (fig_loc,fig_caption,fig_label,)\n",
    "    return S"
   ]
  },
  {
   "cell_type": "code",
   "execution_count": 8,
   "metadata": {},
   "outputs": [],
   "source": [
    "# for i in range(2):\n",
    "i = 0\n",
    "part = PartDets.loc[i,'PartID']\n",
    "\n",
    "texName = \"Indiv.tex\"\n",
    "f= open(texName, 'w+')\n",
    "f.write('\\\\title{Holmenkollen 2023 relay Physio report}\\n \\\\maketitle\\n')\n",
    "f.write('\\\\section*{Relay Race participation}\\n ')\n",
    "f.write(PartDets.loc[i,'Participant']+' wore an Equivital monitor vest while participated in Holmenkollen 2023 for RITMO,')\n",
    "f.write(' running leg ' +str(PartDets.loc[i,'Leg'])+ ': ' +str(PartDets.loc[i,'Point'])+  '. \\n ')\n",
    "f.write(PartDets.loc[i,'GivenName']+'s run time was ' + str(np.round(PartDets.loc[i,'Duration'],0))+ ' s over ' +str(np.round(PartDets.loc[i,'Distance  (m)'])) + ' m. ' )\n",
    "f.write('This report shares some views of ' +PartDets.loc[i,'pp']+ ' physiological state before, during and after running. \\n')\n",
    "\n",
    "cap = 'Heart Rate, Respiration wave, Quantity of Motion, and Skin tempurature around the time ' +PartDets.loc[i,'GivenName'] + ' was running. '+PartDets.loc[i,'CF1']\n",
    "tag = 'leg'\n",
    "figloc = plot_loc +part+'_leg_Relay.png'\n",
    "f.write(fig_insert(figloc,cap,tag))\n",
    "\n",
    "cap = 'For reference, the same measurements over the full duration of the relay race. '+PartDets.loc[i,'CF2']\n",
    "tag = 'Full'\n",
    "figloc = plot_loc +part+ '_Full_Relay.png'\n",
    "f.write(fig_rotate(figloc,cap,tag))\n",
    "\n",
    "cap = 'To display more clearly the behaviour of these signals in different stats, 5 s samples of raw signals before, during and after ' + PartDets.loc[i,'pp']+ ' leg. '+PartDets.loc[i,'CF3']\n",
    "tag = '5s'\n",
    "figloc = plot_loc +part+ '_5s_samples_Relay.png'\n",
    "f.write(fig_insert(figloc,cap,tag))\n",
    "\n",
    "cap = 'Distributions of Inspiration and Expirations times against depths before, during, and after running. '+PartDets.loc[i,'CF4']\n",
    "tag = 'resp'\n",
    "figloc = plot_loc +part+ '_resp_phases.png'\n",
    "f.write(fig_insert(figloc,cap,tag))\n",
    "\n",
    "f.write('\\n\\\\end{document}\\n')\n",
    "f.close() \n",
    "\n",
    "os.system('pdflatex som.tex')\n",
    "os.rename(out_loc + 'som.pdf',out_loc+'Indiv_files/' +part + \"_sum.pdf\")\n"
   ]
  },
  {
   "cell_type": "code",
   "execution_count": 1,
   "metadata": {},
   "outputs": [
    {
     "ename": "NameError",
     "evalue": "name 'PartDets' is not defined",
     "output_type": "error",
     "traceback": [
      "\u001b[0;31m---------------------------------------------------------------------------\u001b[0m",
      "\u001b[0;31mNameError\u001b[0m                                 Traceback (most recent call last)",
      "\u001b[0;32m<ipython-input-1-4cceb35accac>\u001b[0m in \u001b[0;36m<module>\u001b[0;34m\u001b[0m\n\u001b[1;32m      1\u001b[0m \u001b[0;31m# for i in range(2):\u001b[0m\u001b[0;34m\u001b[0m\u001b[0;34m\u001b[0m\u001b[0;34m\u001b[0m\u001b[0m\n\u001b[1;32m      2\u001b[0m \u001b[0mi\u001b[0m \u001b[0;34m=\u001b[0m \u001b[0;36m0\u001b[0m\u001b[0;34m\u001b[0m\u001b[0;34m\u001b[0m\u001b[0m\n\u001b[0;32m----> 3\u001b[0;31m \u001b[0mpart\u001b[0m \u001b[0;34m=\u001b[0m \u001b[0mPartDets\u001b[0m\u001b[0;34m.\u001b[0m\u001b[0mloc\u001b[0m\u001b[0;34m[\u001b[0m\u001b[0mi\u001b[0m\u001b[0;34m,\u001b[0m\u001b[0;34m'PartID'\u001b[0m\u001b[0;34m]\u001b[0m\u001b[0;34m\u001b[0m\u001b[0;34m\u001b[0m\u001b[0m\n\u001b[0m\u001b[1;32m      4\u001b[0m \u001b[0;34m\u001b[0m\u001b[0m\n\u001b[1;32m      5\u001b[0m \u001b[0mtexName\u001b[0m \u001b[0;34m=\u001b[0m \u001b[0;34m\"part.tex\"\u001b[0m\u001b[0;34m\u001b[0m\u001b[0;34m\u001b[0m\u001b[0m\n",
      "\u001b[0;31mNameError\u001b[0m: name 'PartDets' is not defined"
     ]
    }
   ],
   "source": [
    "# for i in range(2):\n",
    "i = 0\n",
    "part = PartDets.loc[i,'PartID']\n",
    "\n",
    "texName = \"part.tex\"\n",
    "f= open(texName, 'w+')\n",
    "f.write('\\\\section{Holmenkollen 2023 relay Physio report}\\n')\n",
    "f.write('\\\\subsection*{Relay Race participation}\\n ')\n",
    "f.write(PartDets.loc[i,'Participant']+' wore an Equivital monitor vest while participated in Holmenkollen 2023 for RITMO,')\n",
    "f.write(' running leg ' +str(PartDets.loc[i,'Leg'])+ ': ' +str(PartDets.loc[i,'Point'])+  '. \\n ')\n",
    "f.write(PartDets.loc[i,'GivenName']+'s run time was ' + str(np.round(PartDets.loc[i,'Duration'],0))+ ' s over ' +str(np.round(PartDets.loc[i,'Distance  (m)'])) + ' m. ' )\n",
    "f.write('This report shares some views of ' +PartDets.loc[i,'pp']+ ' physiological state before, during and after running. \\n')\n",
    "\n",
    "cap = 'Heart Rate, Respiration wave, Quantity of Motion, and Skin tempurature around the time ' +PartDets.loc[i,'GivenName'] + ' was running. '+PartDets.loc[i,'CF1']\n",
    "tag = 'leg'\n",
    "figloc = plot_loc +part+'_leg_Relay.png'\n",
    "f.write(fig_insert(figloc,cap,tag))\n",
    "\n",
    "cap = 'For reference, the same measurements over the full duration of the relay race. '+PartDets.loc[i,'CF2']\n",
    "tag = 'Full'\n",
    "figloc = plot_loc +part+ '_Full_Relay.png'\n",
    "f.write(fig_rotate(figloc,cap,tag))\n",
    "\n",
    "cap = 'To display more clearly the behaviour of these signals in different stats, 5 s samples of raw signals before, during and after ' + PartDets.loc[i,'pp']+ ' leg. '+PartDets.loc[i,'CF3']\n",
    "tag = '5s'\n",
    "figloc = plot_loc +part+ '_5s_samples_Relay.png'\n",
    "f.write(fig_insert(figloc,cap,tag))\n",
    "\n",
    "cap = 'Distributions of Inspiration and Expirations times against depths before, during, and after running. '+PartDets.loc[i,'CF4']\n",
    "tag = 'resp'\n",
    "figloc = plot_loc +part+ '_resp_phases.png'\n",
    "f.write(fig_insert(figloc,cap,tag))\n",
    "\n",
    "f.write('\\n\\\\end{document}\\n')\n",
    "f.close() \n",
    "\n",
    "os.system('pdflatex main.tex')\n",
    "#os.rename(out_loc + 'main.pdf',out_loc+'Indiv_files/' +part + \"_sum.pdf\")\n"
   ]
  },
  {
   "cell_type": "code",
   "execution_count": 44,
   "metadata": {},
   "outputs": [
    {
     "data": {
      "text/plain": [
       "['Indiv.aux',\n",
       " '.DS_Store',\n",
       " 'som.synctex(busy)',\n",
       " 'som.tex',\n",
       " 'Indiv_files',\n",
       " 'Indiv.tex',\n",
       " 'som.aux',\n",
       " 'som.log']"
      ]
     },
     "execution_count": 44,
     "metadata": {},
     "output_type": "execute_result"
    }
   ],
   "source": [
    "os.listdir()"
   ]
  },
  {
   "cell_type": "markdown",
   "metadata": {},
   "source": [
    "# run through version \n",
    "make initial plots, review in doc form to add commentary and run again."
   ]
  },
  {
   "cell_type": "code",
   "execution_count": 31,
   "metadata": {},
   "outputs": [],
   "source": [
    "for i in range(len(PartDets)):\n",
    "\n",
    "    part = PartDets.loc[i,'PartID']\n",
    "\n",
    "    texName = \"Indiv.tex\"\n",
    "    f= open(texName, 'w+')\n",
    "    f.write('\\\\title{Holmenkollen 2023 relay Physio report}\\n \\\\maketitle\\n')\n",
    "    f.write('\\\\section*{Relay Race participation}\\n ')\n",
    "    f.write(PartDets.loc[i,'Participant']+' wore an Equivital monitor vest while participated in Holmenkollen 2023 for RITMO,')\n",
    "    f.write(' running leg ' +str(PartDets.loc[i,'Leg'])+ ': ' +str(PartDets.loc[i,'Point'])+  '. \\n ')\n",
    "    f.write(PartDets.loc[i,'GivenName']+'s run time was ' + str(np.round(PartDets.loc[i,'Duration'],0))+ ' s over ' +str(np.round(PartDets.loc[i,'Distance  (m)'])) + ' m. ' )\n",
    "    f.write('This report shares some views of ' +PartDets.loc[i,'pp']+ ' physiological state before, during and after running. \\n')\n",
    "\n",
    "    cap = 'Heart Rate, Respiration wave, Quantity of Motion, and Skin temperature around the time ' +PartDets.loc[i,'GivenName'] + ' was running. '+PartDets.loc[i,'CF1']\n",
    "    tag = 'leg'\n",
    "    figloc = plot_loc +part+'_leg_Relay.png'\n",
    "    f.write(fig_insert(figloc,cap,tag))\n",
    "\n",
    "    cap = 'For reference, the same measurements over the full duration of the relay race.'+PartDets.loc[i,'CF2']\n",
    "    tag = 'Full'\n",
    "    figloc = plot_loc +part+ '_Full_Relay.png'\n",
    "    f.write(fig_rotate(figloc,cap,tag))\n",
    "\n",
    "    cap = 'To display more clearly the behaviour of these signals in different stats, 5 s samples of raw signals before, during and after ' + PartDets.loc[i,'pp']+ ' leg. '+PartDets.loc[i,'CF3']\n",
    "    tag = '5s'\n",
    "    figloc = plot_loc +part+ '_5s_samples_Relay.png'\n",
    "    f.write(fig_insert(figloc,cap,tag))\n",
    "\n",
    "    cap = 'Distributions of Inspiration and Expirations times against depths before, during, and after running. '+PartDets.loc[i,'CF4']\n",
    "    tag = 'resp'\n",
    "    figloc = plot_loc +part+ '_resp_phases.png'\n",
    "    f.write(fig_insert(figloc,cap,tag))\n",
    "\n",
    "    f.write('\\n\\\\end{document}\\n')\n",
    "    f.close() \n",
    "\n",
    "    os.system('pdflatex som.tex')\n",
    "    os.rename(out_loc + 'som.pdf',out_loc+'Indiv_files/' +part + \"_sum.pdf\")\n"
   ]
  },
  {
   "cell_type": "code",
   "execution_count": 24,
   "metadata": {},
   "outputs": [
    {
     "data": {
      "text/plain": [
       "8"
      ]
     },
     "execution_count": 24,
     "metadata": {},
     "output_type": "execute_result"
    }
   ],
   "source": [
    "PartDets.loc[i,'CF1']\n",
    "i"
   ]
  }
 ],
 "metadata": {
  "kernelspec": {
   "display_name": "Python 3",
   "language": "python",
   "name": "python3"
  },
  "language_info": {
   "codemirror_mode": {
    "name": "ipython",
    "version": 3
   },
   "file_extension": ".py",
   "mimetype": "text/x-python",
   "name": "python",
   "nbconvert_exporter": "python",
   "pygments_lexer": "ipython3",
   "version": "3.9.0"
  }
 },
 "nbformat": 4,
 "nbformat_minor": 4
}
